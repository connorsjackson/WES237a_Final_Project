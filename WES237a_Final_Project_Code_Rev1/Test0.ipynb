{
 "cells": [
  {
   "cell_type": "code",
   "execution_count": 1,
   "id": "0694346a",
   "metadata": {},
   "outputs": [
    {
     "data": {
      "application/javascript": [
       "\n",
       "try {\n",
       "require(['notebook/js/codecell'], function(codecell) {\n",
       "  codecell.CodeCell.options_default.highlight_modes[\n",
       "      'magic_text/x-csrc'] = {'reg':[/^%%microblaze/]};\n",
       "  Jupyter.notebook.events.one('kernel_ready.Kernel', function(){\n",
       "      Jupyter.notebook.get_cells().map(function(cell){\n",
       "          if (cell.cell_type == 'code'){ cell.auto_highlight(); } }) ;\n",
       "  });\n",
       "});\n",
       "} catch (e) {};\n"
      ]
     },
     "metadata": {},
     "output_type": "display_data"
    },
    {
     "data": {
      "application/javascript": [
       "\n",
       "try {\n",
       "require(['notebook/js/codecell'], function(codecell) {\n",
       "  codecell.CodeCell.options_default.highlight_modes[\n",
       "      'magic_text/x-csrc'] = {'reg':[/^%%pybind11/]};\n",
       "  Jupyter.notebook.events.one('kernel_ready.Kernel', function(){\n",
       "      Jupyter.notebook.get_cells().map(function(cell){\n",
       "          if (cell.cell_type == 'code'){ cell.auto_highlight(); } }) ;\n",
       "  });\n",
       "});\n",
       "} catch (e) {};\n"
      ]
     },
     "metadata": {},
     "output_type": "display_data"
    }
   ],
   "source": [
    "from pynq.overlays.base import BaseOverlay\n",
    "\n",
    "#if need ADC from pynq.lib import Pmod_ADC\n",
    "base = BaseOverlay(\"base.bit\")\n",
    "buttons = base.btns_gpio\n",
    "\n",
    "import time\n",
    "from datetime import datetime\n",
    "\n",
    "import socket"
   ]
  },
  {
   "cell_type": "code",
   "execution_count": null,
   "id": "c07d98da",
   "metadata": {},
   "outputs": [],
   "source": [
    "%%microblaze base.PMODB\n",
    "#include \"gpio.h\"\n",
    "#include \"pyprintf.h\"\n",
    "\n",
    "//Function to turn on/off a selected pin of PMODB\n",
    "void write_gpio(unsigned int pin, unsigned int val){\n",
    "    if (val > 1){\n",
    "        pyprintf(\"pin value must be 0 or 1\");\n",
    "    }\n",
    "    gpio pin_out = gpio_open(pin);\n",
    "    gpio_set_direction(pin_out, GPIO_OUT);\n",
    "    gpio_write(pin_out, val);\n",
    "}\n",
    "\n",
    "//Function to read the value of a selected pin of PMODB\n",
    "    unsigned int read_gpio(unsigned int pin){\n",
    "    gpio pin_in = gpio_open(pin);\n",
    "    gpio_set_direction(pin_in, GPIO_IN);\n",
    "    return gpio_read(pin_in);\n",
    "}\n",
    "\n",
    "//Add a C++ function to reset all the GPIO pins on the chosen PMOD\n",
    "void reset_gpio(){\n",
    "    for (unsigned int j = 0; j <= 7; j = j + 1) {\n",
    "        write_gpio(j, 0);\n",
    "        //write_gpio(pin,val)\n",
    "        //we want the value reset to zero\n",
    "        //8 pins, starts at 0\n",
    "    }\n",
    "}"
   ]
  },
  {
   "cell_type": "code",
   "execution_count": 5,
   "id": "c9a463e8",
   "metadata": {},
   "outputs": [
    {
     "ename": "SyntaxError",
     "evalue": "invalid syntax (<ipython-input-5-0296233c0e9b>, line 7)",
     "output_type": "error",
     "traceback": [
      "\u001b[0;36m  File \u001b[0;32m\"<ipython-input-5-0296233c0e9b>\"\u001b[0;36m, line \u001b[0;32m7\u001b[0m\n\u001b[0;31m    sound = []\u001b[0m\n\u001b[0m    ^\u001b[0m\n\u001b[0;31mSyntaxError\u001b[0m\u001b[0;31m:\u001b[0m invalid syntax\n"
     ]
    }
   ],
   "source": [
    "LEDs = [base.leds[0] , base.leds[1] , base.leds[2] , base.leds[3]]\n",
    "#led0 = base.leds[0]\n",
    "#led1 = base.leds[1]\n",
    "#led2 = base.leds[2]\n",
    "#led3 = base.leds[3]\n",
    "\n",
    "sound = []\n",
    "        \n",
    "# base.btns[1].read() != 0:"
   ]
  },
  {
   "cell_type": "code",
   "execution_count": null,
   "id": "9c6f1420",
   "metadata": {},
   "outputs": [],
   "source": [
    "#[keypad pin # , PMODA pin #, Value]\n",
    "#[1, 0, Row1]\n",
    "#[2, 1, Row2]\n",
    "#[3, 2, Row3]\n",
    "#[4, 3, Row4]\n",
    "#[5, 4, Column1]\n",
    "#[6, 5, Column2]\n",
    "#[7, 6, Column3]\n",
    "#[8, 7, Column4]\n",
    "def keypad():\n",
    "    global sound, \n",
    "    reset_gpio()\n",
    "    keypad_input = []\n",
    "    \n",
    "    for i in range(8): #see which two of the 8 pins are on!\n",
    "        y = read.gpio(i)\n",
    "        #if pin on, write to input array\n",
    "        if y == 1: \n",
    "            keypad_input.append(i)\n",
    "\n",
    "    if keypad_input[0] == 0:\n",
    "        if keypad_input[1] == 4: #if row1, col1\n",
    "            sound.append('R1C1')\n",
    "        elif keypad_input[1] == 5: #if row1, col2\n",
    "            sound.append('R1C2')\n",
    "        elif keypad_input[1] == 6: #if row1, col3\n",
    "            sound.append('R1C3')\n",
    "        elif keypad_input[1] == 7: #if row1, col4\n",
    "            sound.append('R1C4')\n",
    "    elif keypad_input[0] == 1:\n",
    "        if keypad_input[1] == 4: #if row2, col1\n",
    "            sound.append('R2C1')\n",
    "        elif keypad_input[1] == 5: #if row2, col2\n",
    "            sound.append('R2C2')\n",
    "        elif keypad_input[1] == 6: #if row2, col3\n",
    "            sound.append('R2C3')\n",
    "        elif keypad_input[1] == 7: #if row2 col4\n",
    "            sound.append('R2C4')\n",
    "    elif keypad_input[0] == 2:\n",
    "        if keypad_input[1] == 4: #if row3, col1\n",
    "            sound.append('R3C1')\n",
    "        elif keypad_input[1] == 5: #if row3, col2\n",
    "            sound.append('R3C2')\n",
    "        elif keypad_input[1] == 6: #if row3, col3\n",
    "            sound.append('R3C3')\n",
    "        elif keypad_input[1] == 7: #if row3 col4\n",
    "            sound.append('R3C4')\n",
    "    elif keypad_input[0] == 1:\n",
    "        if keypad_input[1] == 4: #if row4, col1\n",
    "            sound.append('R4C1')\n",
    "        elif keypad_input[1] == 5: #if row4, col2\n",
    "            sound.append('R4C2')\n",
    "        elif keypad_input[1] == 6: #if row4, col3\n",
    "            sound.append('R4C3')\n",
    "        elif keypad_input[1] == 7: #if row4 col4\n",
    "            sound.append('R4C4')\n"
   ]
  },
  {
   "cell_type": "code",
   "execution_count": null,
   "id": "d4da66f0",
   "metadata": {},
   "outputs": [],
   "source": [
    "def Play():\n",
    "    global sound\n",
    "    \n",
    "    "
   ]
  },
  {
   "cell_type": "code",
   "execution_count": null,
   "id": "8b4ff82d",
   "metadata": {},
   "outputs": [],
   "source": [
    "#set up socket\n",
    "#see if user input\n",
    "while True\n",
    "    if buttons.read() != 0\n",
    "        Playing = True\n",
    "    while Playing == True:\n",
    "        i = 0;\n",
    "        keypad()\n",
    "        if sound[i] == R4C4:\n",
    "            playing == False\n",
    "            #stop taking inputs\n",
    "\n",
    "\n",
    "    "
   ]
  },
  {
   "cell_type": "code",
   "execution_count": null,
   "id": "a24d30a7",
   "metadata": {},
   "outputs": [],
   "source": [
    "\n",
    "\n",
    "sound_input()\n",
    "    global sound, LEDs\n",
    "    #create an array for which of the 4 sounds will be played:\n",
    "    \n",
    "    #append the sound array based on the button pressed\n",
    "    if base.buttons[0].read() != 0:\n",
    "        sound.append(1)\n",
    "    elif base.buttons[1].read() != 0:\n",
    "        sound.append(2)    \n",
    "    elif base.buttons[2].read() != 0:\n",
    "        sound.append(3)\n",
    "    elif base.buttons[3].read() != 0:\n",
    "        sound.append(4)\n",
    "    else\n",
    "        break\n",
    "    LEDs[sound-1].on()\n",
    "    #gpio_write(sound)\n",
    "    #send message(sound)\n",
    "\n",
    "Playing = False\n",
    "while True:\n",
    "    #if buttons.read() != 0:\n",
    "        #Playing == True\n",
    "        #use lock\n",
    "        #read input\n",
    "    elif network_receive = True\n",
    "        "
   ]
  },
  {
   "cell_type": "code",
   "execution_count": null,
   "id": "32bb0a7c",
   "metadata": {},
   "outputs": [],
   "source": [
    "#Server\n",
    "server_name = '0.0.0.0' #accept any ip address\n",
    "server_port = 12345 #create the port that will be used. I decided to use 8000\n",
    "sock.bind((server_name,server_port)) #1 socket.bind(address)\n",
    "sock.listen() # socket.listen()\n",
    "\n",
    "while True:\n",
    "    connection, address = sock.accept() #2 return value is a pair (conn, address)\n",
    "    while True:\n",
    "        sound.append(connection.recv(1024))\n",
    "    \n",
    "        if receive_bytes is None:\n",
    "            break\n",
    "    play_sound(sound)\n",
    "                     "
   ]
  },
  {
   "cell_type": "code",
   "execution_count": null,
   "id": "d3f01580",
   "metadata": {},
   "outputs": [],
   "source": [
    "#Client\n",
    "\n",
    "#wait for user input\n",
    "    if but\n",
    "\n",
    "server_name = '192.168.2.1' #Local machine\n",
    "server_port = 8000\n",
    "sock_client.connect((server_name, server_port)) #1 socket.connect(servername)\n",
    "if buttons.read() != 0:\n",
    "    sound_input()\n",
    "    \n",
    "sock_client.send(user_input)\n",
    "sock_client.close()"
   ]
  }
 ],
 "metadata": {
  "kernelspec": {
   "display_name": "Python 3",
   "language": "python",
   "name": "python3"
  },
  "language_info": {
   "codemirror_mode": {
    "name": "ipython",
    "version": 3
   },
   "file_extension": ".py",
   "mimetype": "text/x-python",
   "name": "python",
   "nbconvert_exporter": "python",
   "pygments_lexer": "ipython3",
   "version": "3.8.2"
  }
 },
 "nbformat": 4,
 "nbformat_minor": 5
}
