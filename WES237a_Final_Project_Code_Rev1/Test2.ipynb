{
 "cells": [
  {
   "cell_type": "code",
   "execution_count": 4,
   "id": "79222f34",
   "metadata": {},
   "outputs": [],
   "source": [
    "from pynq.overlays.base import BaseOverlay\n",
    "import time\n",
    "from datetime import datetime\n",
    "base = BaseOverlay(\"base.bit\")\n",
    "\n",
    "import asyncio"
   ]
  },
  {
   "cell_type": "code",
   "execution_count": 5,
   "id": "97091e17",
   "metadata": {},
   "outputs": [],
   "source": [
    "%%microblaze base.PMODB\n",
    "\n",
    "#include \"gpio.h\"\n",
    "#include \"pyprintf.h\"\n",
    "\n",
    "//Function to turn on/off a selected pin of PMODB\n",
    "void write_gpio(unsigned int pin, unsigned int val){\n",
    "    if (val > 1){\n",
    "        pyprintf(\"pin value must be 0 or 1\");\n",
    "    }\n",
    "    gpio pin_out = gpio_open(pin);\n",
    "    gpio_set_direction(pin_out, GPIO_OUT);\n",
    "    gpio_write(pin_out, val);\n",
    "}\n",
    "\n",
    "//Function to read the value of a selected pin of PMODB\n",
    "unsigned int read_gpio(unsigned int pin){\n",
    "    gpio pin_in = gpio_open(pin);\n",
    "    gpio_set_direction(pin_in, GPIO_IN);\n",
    "    return gpio_read(pin_in);\n",
    "}\n",
    "\n",
    "//Add a C++ function to reset all the GPIO pins on the chosen PMOD\n",
    "void reset_gpio(){\n",
    "    for (unsigned int j = 0; j <= 7; j = j + 1) { \n",
    "        write_gpio(j, 0);\n",
    "        //write_gpio(pin,val)\n",
    "        //we want the value reset to zero\n",
    "        //12 pins, starts at 0\n",
    "    }\n",
    "}"
   ]
  },
  {
   "cell_type": "code",
   "execution_count": 8,
   "id": "f253dd82",
   "metadata": {},
   "outputs": [
    {
     "name": "stdout",
     "output_type": "stream",
     "text": [
      "0\n",
      "0\n",
      "1\n",
      "1\n",
      "0\n",
      "0\n",
      "1\n",
      "1\n"
     ]
    }
   ],
   "source": [
    "reset_gpio()\n",
    "for i in range(8):\n",
    "    print(read_gpio(i))"
   ]
  },
  {
   "cell_type": "code",
   "execution_count": null,
   "id": "04809f3b",
   "metadata": {},
   "outputs": [],
   "source": [
    "reset_gpio()\n",
    "\n",
    "frequency = 10 #Can be any frequency, but probably want it at least in kHz range\n",
    "duty_cycle = .5 #should be a percent from 0 to 1.\n",
    "time_on = duty_cycle * (1/frequency)\n",
    "time_off = (1-duty_cycle) * (1/frequency)\n",
    "\n",
    "y=1\n",
    "last = time.time()\n",
    "while True:\n",
    "    write_gpio(y,1)\n",
    "    time.sleep(time_on)\n",
    "    write_gpio(y,0)\n",
    "    time.sleep(time_off)\n",
    "    \n",
    "    if time.time() - last > 1:\n",
    "        last = time.time()\n",
    "        print(f\"time = {last}\")\n",
    "    \n"
   ]
  },
  {
   "cell_type": "code",
   "execution_count": null,
   "id": "86a2b27c",
   "metadata": {},
   "outputs": [],
   "source": [
    "#function for the keypad\n",
    "def keypad():\n",
    "    global sound, \n",
    "    reset_gpio()\n",
    "    keypad_input = []\n",
    "    \n",
    "    for i in range(8): #see which two of the 8 pins are on!\n",
    "        y = read.gpio(i)\n",
    "        #if pin on, write to input array\n",
    "        if y == 1: \n",
    "            keypad_input.append(i)\n",
    "\n",
    "    if keypad_input[0] == 0:\n",
    "        if keypad_input[1] == 4: #if row1, col1\n",
    "            sound.append('R1C1')\n",
    "        elif keypad_input[1] == 5: #if row1, col2\n",
    "            sound.append('R1C2')\n",
    "        elif keypad_input[1] == 6: #if row1, col3\n",
    "            sound.append('R1C3')\n",
    "        elif keypad_input[1] == 7: #if row1, col4\n",
    "            sound.append('R1C4')\n",
    "    elif keypad_input[0] == 1:\n",
    "        if keypad_input[1] == 4: #if row2, col1\n",
    "            sound.append('R2C1')\n",
    "        elif keypad_input[1] == 5: #if row2, col2\n",
    "            sound.append('R2C2')\n",
    "        elif keypad_input[1] == 6: #if row2, col3\n",
    "            sound.append('R2C3')\n",
    "        elif keypad_input[1] == 7: #if row2 col4\n",
    "            sound.append('R2C4')\n",
    "    elif keypad_input[0] == 2:\n",
    "        if keypad_input[1] == 4: #if row3, col1\n",
    "            sound.append('R3C1')\n",
    "        elif keypad_input[1] == 5: #if row3, col2\n",
    "            sound.append('R3C2')\n",
    "        elif keypad_input[1] == 6: #if row3, col3\n",
    "            sound.append('R3C3')\n",
    "        elif keypad_input[1] == 7: #if row3 col4\n",
    "            sound.append('R3C4')\n",
    "    elif keypad_input[0] == 1:\n",
    "        if keypad_input[1] == 4: #if row4, col1\n",
    "            sound.append('R4C1')\n",
    "        elif keypad_input[1] == 5: #if row4, col2\n",
    "            sound.append('R4C2')\n",
    "        elif keypad_input[1] == 6: #if row4, col3\n",
    "            sound.append('R4C3')\n",
    "        elif keypad_input[1] == 7: #if row4 col4\n",
    "            sound.append('R4C4')"
   ]
  },
  {
   "cell_type": "code",
   "execution_count": 13,
   "id": "5606be1f",
   "metadata": {},
   "outputs": [
    {
     "name": "stdout",
     "output_type": "stream",
     "text": [
      "intial: 0 0\n",
      "reset to:  0 0\n",
      "readinput: 0 0\n",
      "No input 0 0\n",
      "No input 0 0\n",
      "readinput: 0 0\n",
      "No input 0 0\n",
      "No input 0 0\n",
      "readinput: 0 0\n",
      "No input 0 0\n",
      "No input 0 0\n",
      "No input 0 0\n",
      "readinput: 0 0\n",
      "No input 0 0\n",
      "No input 0 0\n",
      "readinput: 0 0\n"
     ]
    },
    {
     "ename": "KeyboardInterrupt",
     "evalue": "",
     "output_type": "error",
     "traceback": [
      "\u001b[0;31m---------------------------------------------------------------------------\u001b[0m",
      "\u001b[0;31mKeyboardInterrupt\u001b[0m                         Traceback (most recent call last)",
      "\u001b[0;32m<ipython-input-13-393b45a35853>\u001b[0m in \u001b[0;36m<module>\u001b[0;34m\u001b[0m\n\u001b[1;32m     44\u001b[0m \u001b[0mloop\u001b[0m\u001b[0;34m.\u001b[0m\u001b[0mcreate_task\u001b[0m\u001b[0;34m(\u001b[0m\u001b[0mreadinput\u001b[0m\u001b[0;34m(\u001b[0m\u001b[0ma\u001b[0m\u001b[0;34m,\u001b[0m\u001b[0mb\u001b[0m\u001b[0;34m)\u001b[0m\u001b[0;34m)\u001b[0m\u001b[0;34m\u001b[0m\u001b[0;34m\u001b[0m\u001b[0m\n\u001b[1;32m     45\u001b[0m \u001b[0mloop\u001b[0m\u001b[0;34m.\u001b[0m\u001b[0mcreate_task\u001b[0m\u001b[0;34m(\u001b[0m\u001b[0mreadkeypad\u001b[0m\u001b[0;34m(\u001b[0m\u001b[0mloop\u001b[0m\u001b[0;34m,\u001b[0m \u001b[0ma\u001b[0m\u001b[0;34m,\u001b[0m \u001b[0mb\u001b[0m\u001b[0;34m)\u001b[0m\u001b[0;34m)\u001b[0m\u001b[0;34m\u001b[0m\u001b[0;34m\u001b[0m\u001b[0m\n\u001b[0;32m---> 46\u001b[0;31m \u001b[0mloop\u001b[0m\u001b[0;34m.\u001b[0m\u001b[0mrun_forever\u001b[0m\u001b[0;34m(\u001b[0m\u001b[0;34m)\u001b[0m\u001b[0;34m\u001b[0m\u001b[0;34m\u001b[0m\u001b[0m\n\u001b[0m\u001b[1;32m     47\u001b[0m \u001b[0;34m\u001b[0m\u001b[0m\n\u001b[1;32m     48\u001b[0m \u001b[0;31m#while True:\u001b[0m\u001b[0;34m\u001b[0m\u001b[0;34m\u001b[0m\u001b[0;34m\u001b[0m\u001b[0m\n",
      "\u001b[0;32m/usr/local/share/pynq-venv/lib/python3.8/site-packages/nest_asyncio.py\u001b[0m in \u001b[0;36mrun_forever\u001b[0;34m(self)\u001b[0m\n\u001b[1;32m     51\u001b[0m         \u001b[0;32mwith\u001b[0m \u001b[0mmanage_run\u001b[0m\u001b[0;34m(\u001b[0m\u001b[0mself\u001b[0m\u001b[0;34m)\u001b[0m\u001b[0;34m,\u001b[0m \u001b[0mmanage_asyncgens\u001b[0m\u001b[0;34m(\u001b[0m\u001b[0mself\u001b[0m\u001b[0;34m)\u001b[0m\u001b[0;34m:\u001b[0m\u001b[0;34m\u001b[0m\u001b[0;34m\u001b[0m\u001b[0m\n\u001b[1;32m     52\u001b[0m             \u001b[0;32mwhile\u001b[0m \u001b[0;32mTrue\u001b[0m\u001b[0;34m:\u001b[0m\u001b[0;34m\u001b[0m\u001b[0;34m\u001b[0m\u001b[0m\n\u001b[0;32m---> 53\u001b[0;31m                 \u001b[0mself\u001b[0m\u001b[0;34m.\u001b[0m\u001b[0m_run_once\u001b[0m\u001b[0;34m(\u001b[0m\u001b[0;34m)\u001b[0m\u001b[0;34m\u001b[0m\u001b[0;34m\u001b[0m\u001b[0m\n\u001b[0m\u001b[1;32m     54\u001b[0m                 \u001b[0;32mif\u001b[0m \u001b[0mself\u001b[0m\u001b[0;34m.\u001b[0m\u001b[0m_stopping\u001b[0m\u001b[0;34m:\u001b[0m\u001b[0;34m\u001b[0m\u001b[0;34m\u001b[0m\u001b[0m\n\u001b[1;32m     55\u001b[0m                     \u001b[0;32mbreak\u001b[0m\u001b[0;34m\u001b[0m\u001b[0;34m\u001b[0m\u001b[0m\n",
      "\u001b[0;32m/usr/local/share/pynq-venv/lib/python3.8/site-packages/nest_asyncio.py\u001b[0m in \u001b[0;36m_run_once\u001b[0;34m(self)\u001b[0m\n\u001b[1;32m     86\u001b[0m             else None)\n\u001b[1;32m     87\u001b[0m         \u001b[0mevent_list\u001b[0m \u001b[0;34m=\u001b[0m \u001b[0mself\u001b[0m\u001b[0;34m.\u001b[0m\u001b[0m_selector\u001b[0m\u001b[0;34m.\u001b[0m\u001b[0mselect\u001b[0m\u001b[0;34m(\u001b[0m\u001b[0mtimeout\u001b[0m\u001b[0;34m)\u001b[0m\u001b[0;34m\u001b[0m\u001b[0;34m\u001b[0m\u001b[0m\n\u001b[0;32m---> 88\u001b[0;31m         \u001b[0mself\u001b[0m\u001b[0;34m.\u001b[0m\u001b[0m_process_events\u001b[0m\u001b[0;34m(\u001b[0m\u001b[0mevent_list\u001b[0m\u001b[0;34m)\u001b[0m\u001b[0;34m\u001b[0m\u001b[0;34m\u001b[0m\u001b[0m\n\u001b[0m\u001b[1;32m     89\u001b[0m \u001b[0;34m\u001b[0m\u001b[0m\n\u001b[1;32m     90\u001b[0m         \u001b[0mend_time\u001b[0m \u001b[0;34m=\u001b[0m \u001b[0mself\u001b[0m\u001b[0;34m.\u001b[0m\u001b[0mtime\u001b[0m\u001b[0;34m(\u001b[0m\u001b[0;34m)\u001b[0m \u001b[0;34m+\u001b[0m \u001b[0mself\u001b[0m\u001b[0;34m.\u001b[0m\u001b[0m_clock_resolution\u001b[0m\u001b[0;34m\u001b[0m\u001b[0;34m\u001b[0m\u001b[0m\n",
      "\u001b[0;32m/usr/lib/python3.8/asyncio/selector_events.py\u001b[0m in \u001b[0;36m_process_events\u001b[0;34m(self, event_list)\u001b[0m\n\u001b[1;32m    582\u001b[0m             \u001b[0mself\u001b[0m\u001b[0;34m.\u001b[0m\u001b[0m_transports\u001b[0m\u001b[0;34m[\u001b[0m\u001b[0mtransp\u001b[0m\u001b[0;34m.\u001b[0m\u001b[0m_sock_fd\u001b[0m\u001b[0;34m]\u001b[0m \u001b[0;34m=\u001b[0m \u001b[0mtransp\u001b[0m\u001b[0;34m\u001b[0m\u001b[0;34m\u001b[0m\u001b[0m\n\u001b[1;32m    583\u001b[0m \u001b[0;34m\u001b[0m\u001b[0m\n\u001b[0;32m--> 584\u001b[0;31m     \u001b[0;32mdef\u001b[0m \u001b[0m_process_events\u001b[0m\u001b[0;34m(\u001b[0m\u001b[0mself\u001b[0m\u001b[0;34m,\u001b[0m \u001b[0mevent_list\u001b[0m\u001b[0;34m)\u001b[0m\u001b[0;34m:\u001b[0m\u001b[0;34m\u001b[0m\u001b[0;34m\u001b[0m\u001b[0m\n\u001b[0m\u001b[1;32m    585\u001b[0m         \u001b[0;32mfor\u001b[0m \u001b[0mkey\u001b[0m\u001b[0;34m,\u001b[0m \u001b[0mmask\u001b[0m \u001b[0;32min\u001b[0m \u001b[0mevent_list\u001b[0m\u001b[0;34m:\u001b[0m\u001b[0;34m\u001b[0m\u001b[0;34m\u001b[0m\u001b[0m\n\u001b[1;32m    586\u001b[0m             \u001b[0mfileobj\u001b[0m\u001b[0;34m,\u001b[0m \u001b[0;34m(\u001b[0m\u001b[0mreader\u001b[0m\u001b[0;34m,\u001b[0m \u001b[0mwriter\u001b[0m\u001b[0;34m)\u001b[0m \u001b[0;34m=\u001b[0m \u001b[0mkey\u001b[0m\u001b[0;34m.\u001b[0m\u001b[0mfileobj\u001b[0m\u001b[0;34m,\u001b[0m \u001b[0mkey\u001b[0m\u001b[0;34m.\u001b[0m\u001b[0mdata\u001b[0m\u001b[0;34m\u001b[0m\u001b[0;34m\u001b[0m\u001b[0m\n",
      "\u001b[0;31mKeyboardInterrupt\u001b[0m: "
     ]
    }
   ],
   "source": [
    "Y = 0\n",
    "X = 0\n",
    "a = 0\n",
    "b = 4\n",
    "c = 1\n",
    "d = 5\n",
    "\n",
    "print('intial:', read_gpio(a), read_gpio(b))\n",
    "reset_gpio()\n",
    "print('reset to: ', read_gpio(a), read_gpio(b))\n",
    "\n",
    "async def readinput(x0,y0):\n",
    "    global X, Y\n",
    "    while True:\n",
    "        #X = read_gpio(x0)\n",
    "        #Y = read_gpio(y0)\n",
    "        print('readinput:', X, Y)\n",
    "        read_gpio(x0)\n",
    "        read_gpio(y0)\n",
    "        reset_gpio()\n",
    "        await asyncio.sleep(1)\n",
    "    \n",
    "async def readkeypad(_loop, x1, y1):\n",
    "    global X, Y\n",
    "    while True:\n",
    "        await asyncio.sleep(.4)\n",
    "        X = read_gpio(x1)\n",
    "        Y = read_gpio(y1)\n",
    "        if X == 1 & Y == 1:\n",
    "            print('button A input', X, Y)\n",
    "            reset_gpio()\n",
    "            X = read_gpio(x1)\n",
    "            Y = read_gpio(y1)\n",
    "            print('Reset to:', X, Y)\n",
    "        else:\n",
    "            print('No input', X, Y)\n",
    "            reset_gpio()\n",
    "    \n",
    "\n",
    "sound = []\n",
    "LEDs = [base.leds[0] , base.leds[1] , base.leds[2] , base.leds[3]]\n",
    "\n",
    "loop = asyncio.new_event_loop()\n",
    "loop.create_task(readinput(a,b))\n",
    "loop.create_task(readkeypad(loop, a, b))\n",
    "loop.run_forever()\n",
    "\n",
    "#while True:\n",
    "    #print(read_gpio(1))\n",
    "    #time.sleep(1)\n"
   ]
  },
  {
   "cell_type": "code",
   "execution_count": 9,
   "id": "94aea9fb",
   "metadata": {},
   "outputs": [
    {
     "name": "stdout",
     "output_type": "stream",
     "text": [
      "intial: 1 1\n",
      "reset to:  0 0\n",
      "manually reset to:  0 0\n",
      "manually reset to:  1 1\n"
     ]
    }
   ],
   "source": [
    "Y = 0\n",
    "X = 0\n",
    "a = 1\n",
    "b = 5\n",
    "\n",
    "read_gpio(a)\n",
    "read_gpio(b)\n",
    "\n",
    "print('intial:', read_gpio(a), read_gpio(b))\n",
    "reset_gpio()\n",
    "print('reset to: ', read_gpio(a), read_gpio(b))\n",
    "write_gpio(a, 0)\n",
    "write_gpio(b,0)\n",
    "print('manually reset to: ', read_gpio(a), read_gpio(b))\n",
    "print('manually reset to: ', read_gpio(2), read_gpio(6))\n",
    "\n"
   ]
  },
  {
   "cell_type": "code",
   "execution_count": 10,
   "id": "73c46350",
   "metadata": {},
   "outputs": [
    {
     "name": "stdout",
     "output_type": "stream",
     "text": [
      "initial 0 0\n",
      "end:  0 0\n",
      "initial 1 1\n",
      "end:  1 0\n",
      "initial 2 1\n",
      "end:  2 1\n",
      "initial 3 1\n",
      "end:  3 1\n",
      "initial 4 0\n",
      "end:  4 0\n",
      "initial 5 1\n",
      "end:  5 0\n",
      "initial 6 1\n",
      "end:  6 1\n",
      "initial 7 1\n",
      "end:  7 1\n"
     ]
    }
   ],
   "source": [
    "for i in range(8):\n",
    "    print('initial', i, read_gpio(i))\n",
    "    read_gpio(i)\n",
    "    write_gpio(i,0)\n",
    "    print('end: ', i, read_gpio(i))"
   ]
  },
  {
   "cell_type": "code",
   "execution_count": null,
   "id": "076528bd",
   "metadata": {},
   "outputs": [],
   "source": []
  }
 ],
 "metadata": {
  "kernelspec": {
   "display_name": "Python 3",
   "language": "python",
   "name": "python3"
  },
  "language_info": {
   "codemirror_mode": {
    "name": "ipython",
    "version": 3
   },
   "file_extension": ".py",
   "mimetype": "text/x-python",
   "name": "python",
   "nbconvert_exporter": "python",
   "pygments_lexer": "ipython3",
   "version": "3.8.2"
  }
 },
 "nbformat": 4,
 "nbformat_minor": 5
}
