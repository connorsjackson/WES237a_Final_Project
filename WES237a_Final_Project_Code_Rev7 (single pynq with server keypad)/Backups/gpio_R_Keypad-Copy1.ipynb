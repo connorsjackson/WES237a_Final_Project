{
 "cells": [
  {
   "cell_type": "markdown",
   "metadata": {},
   "source": [
    "# Interacting with GPIO from MicroBlaze"
   ]
  },
  {
   "cell_type": "code",
   "execution_count": 34,
   "metadata": {},
   "outputs": [],
   "source": [
    "from pynq.overlays.base import BaseOverlay\n",
    "import time\n",
    "import threading\n",
    "import multiprocessing\n",
    "import os\n",
    "import socket\n",
    "from multiprocessing import Process, Value, Array\n",
    "\n",
    "base = BaseOverlay(\"base.bit\")"
   ]
  },
  {
   "cell_type": "code",
   "execution_count": 35,
   "metadata": {},
   "outputs": [],
   "source": [
    "%%microblaze base.PMODB\n",
    "\n",
    "#include \"gpio.h\"\n",
    "#include \"pyprintf.h\"\n",
    "\n",
    "//Function to turn on/off a selected pin of PMODB\n",
    "void write_gpioB(unsigned int pin, unsigned int val){\n",
    "    if (val > 1){\n",
    "        pyprintf(\"pin value must be 0 or 1\");\n",
    "    }\n",
    "    gpio pin_out = gpio_open(pin);\n",
    "    gpio_set_direction(pin_out, GPIO_OUT);\n",
    "    gpio_write(pin_out, val);\n",
    "}\n",
    "\n",
    "//Function to read the value of a selected pin of PMODB\n",
    "unsigned int read_gpioB(unsigned int pin){\n",
    "    gpio pin_in = gpio_open(pin);\n",
    "    gpio_set_direction(pin_in, GPIO_IN);\n",
    "    return gpio_read(pin_in);\n",
    "}\n",
    "\n",
    "//Add a C++ function to reset all the GPIO pins on the chosen PMOD\n",
    "void reset_gpioB(){\n",
    "    for (unsigned int j = 0; j <= 7; j = j + 1) { \n",
    "        write_gpioB(j, 0);\n",
    "        //write_gpio(pin,val)\n",
    "        //we want the value reset to zero\n",
    "        //12 pins, starts at 0\n",
    "    }\n",
    "}"
   ]
  },
  {
   "cell_type": "code",
   "execution_count": 36,
   "metadata": {},
   "outputs": [],
   "source": [
    "#LED_Status = [0, 0, 2, 3] #Default Status\n",
    "#LED_Status = [1, 1, 2, 1] #test\n",
    "start_LED = False #when connection is made, LED() will start\n",
    "running = True #when client breaks connection, LED() sill stop running\n",
    "\n",
    "sleep_time = 1\n",
    "frequency = 15 #for the PWM Brightness\n",
    "Duty_Cycle = [0.04736614270344993, 0.217637640824031, 0.5310492251033824, 1.0] #25%, 50%, 75%, and 100% brightness.\n",
    "#time_on = duty_cycle * (1/frequency) && time_off = (1-duty_cycle) * (1/frequency)\n",
    "PWM_on = []\n",
    "for i in range(4):\n",
    "    PWM_on.append(Duty_Cycle[i]/frequency)\n",
    "PWM_off = []\n",
    "for i in range(4):\n",
    "    PWM_off.append((1-Duty_Cycle[i])/frequency)\n",
    "PWM_run_time = frequency*sleep_time"
   ]
  },
  {
   "cell_type": "code",
   "execution_count": 37,
   "metadata": {},
   "outputs": [],
   "source": [
    "def LED():\n",
    "    global LED_Status, PWM_on, PWM_off, PWM_run_time, sleep_time, running\n",
    "    while running:\n",
    "        if LED_Status[0] == 0: #IF OFF\n",
    "            time.sleep(sleep_time)\n",
    "        else: #IF ON\n",
    "            if LED_Status[3] == 3: #full bright (NO PWM)\n",
    "                if LED_Status[2] == 0: #If NO PWM & Cycle Color\n",
    "                    for i in range(1,4): #cycle write from 1 (blue), 2 (red) and 3 (green)\n",
    "                        write_gpioB(i,1) #turn on  LED\n",
    "                        time.sleep(sleep_time) #sleep with ON\n",
    "                        write_gpioB(i,0) #turn off LED\n",
    "                        if LED_Status[1] == 1: #if supposed to blink, sleep\n",
    "                            time.sleep(sleep_time)\n",
    "                else: #IF NO PWM & Solid Color\n",
    "                    write_gpioB(LED_Status[2],1)\n",
    "                    time.sleep(sleep_time)\n",
    "                    if LED_Status[1] == 1: #if supposed to blink, sleep\n",
    "                            write_gpioB(LED_Status[2],0)\n",
    "                            time.sleep(sleep_time)\n",
    "            else: #If NOT full brightness (PWM needed)\n",
    "                if LED_Status[2] == 0: #PWM & cycle thru colors\n",
    "                    for i in range(1,4):\n",
    "                        for j in range(PWM_run_time):\n",
    "                            write_gpioB(i,1) #turn on LED\n",
    "                            time.sleep(PWM_on[LED_Status[3]]) #sleep with ON\n",
    "                            write_gpioB(i,0) #turn off LED\n",
    "                            time.sleep(PWM_off[LED_Status[3]]) #sleep with OFF\n",
    "                        if LED_Status[1] == 1: #If blinking\n",
    "                            time.sleep(sleep_time)\n",
    "                else:\n",
    "                    for i in range(PWM_run_time):\n",
    "                        write_gpioB(LED_Status[2],1) #turn on LED\n",
    "                        time.sleep(PWM_on[LED_Status[3]]) #sleep with ON\n",
    "                        write_gpioB(LED_Status[2],0) #turn off LED\n",
    "                        time.sleep(PWM_off[LED_Status[3]]) #sleep with OFF\n",
    "                    if LED_Status[1] == 1: #If Blinking\n",
    "                        time.sleep(sleep_time)\n",
    "\n",
    "def Wait_LED(start):\n",
    "    global sleep_time\n",
    "    print('Waiting for LED to start.')\n",
    "    while True:\n",
    "        if start.value == 1:\n",
    "            print('Starting LED')\n",
    "            LED()\n",
    "            break\n",
    "        print('waiting... ', start)\n",
    "        time.sleep(sleep_time)\n",
    "        \n",
    "def test(start):\n",
    "    itera = 0\n",
    "    while True:\n",
    "        itera +=1\n",
    "        if itera>5:\n",
    "            start.value = 1\n",
    "            print('start_LED = ',start.value)\n",
    "            #print(start_LED)\n",
    "            break\n",
    "        print(itera)\n",
    "        time.sleep(1)"
   ]
  },
  {
   "cell_type": "code",
   "execution_count": null,
   "metadata": {},
   "outputs": [],
   "source": [
    "def run_pynq_server_R():\n",
    "    global LED_Status, start_LED\n",
    "    sock = socket.socket(socket.AF_INET, socket.SOCK_STREAM)\n",
    "    sock.bind(('192.168.2.99', 12345))\n",
    "    sock.listen()\n",
    "    conn, addr = sock.accept()\n",
    "    print(\"Ramin's Server is waiting for a connection!\")\n",
    "    with conn:\n",
    "        print(\"{} connected to Ramin's Server!\".format(addr))\n",
    "        start_LED = True #Now we can allow the LED() function to begin.\n",
    "        while True:\n",
    "            time.sleep(0.0001)\n",
    "            data = conn.recv(1024)\n",
    "            data = data.decode()\n",
    "            if (data == 'disconnect'):\n",
    "                print(\"Client is disconnecting from Ramin's Server.\")\n",
    "                running = False\n",
    "                break\n",
    "            data = list(data) #Here we convert from string into list, then update all indexes from str to int\n",
    "            for i in range(4): #length of data list ALWAYS = 4, could do 'len(data)' instead though.\n",
    "                LED_Status[i] = int(data[i])\n",
    "    print(\"Client has disconnected from Ramin's Server.\")\n"
   ]
  },
  {
   "cell_type": "code",
   "execution_count": null,
   "metadata": {},
   "outputs": [],
   "source": [
    "p_server = multiprocessing.Process(target=run_pynq_server_R)\n",
    "p_server.start()\n",
    "os.system(\"taskset -p -c {} {}\".format(0, p_server.pid))\n",
    "\n",
    "p_GPIOB = multiprocessing.Process(target=Wait_LED)\n",
    "p_GPIOB.start()\n",
    "os.system(\"taskset -p -c {} {}\".format(1, p_GPIOB.pid))\n",
    "\n",
    "p_server.join();\n",
    "p_GPIOB.join();"
   ]
  },
  {
   "cell_type": "code",
   "execution_count": 38,
   "metadata": {},
   "outputs": [
    {
     "name": "stdout",
     "output_type": "stream",
     "text": [
      "1\n",
      "Waiting for LED to start.\n",
      "waiting...  <Synchronized wrapper for c_long(0)>\n"
     ]
    },
    {
     "data": {
      "text/plain": [
       "0"
      ]
     },
     "execution_count": 38,
     "metadata": {},
     "output_type": "execute_result"
    },
    {
     "name": "stdout",
     "output_type": "stream",
     "text": [
      "2\n",
      "waiting...  <Synchronized wrapper for c_long(0)>\n",
      "3\n",
      "waiting...  <Synchronized wrapper for c_long(0)>\n",
      "4\n",
      "waiting...  <Synchronized wrapper for c_long(0)>\n",
      "5\n",
      "waiting...  <Synchronized wrapper for c_long(0)>\n",
      "start_LED =  1\n",
      "Starting LED\n"
     ]
    },
    {
     "name": "stderr",
     "output_type": "stream",
     "text": [
      "Process Process-20:\n",
      "Traceback (most recent call last):\n",
      "  File \"/usr/lib/python3.8/multiprocessing/process.py\", line 315, in _bootstrap\n",
      "    self.run()\n",
      "  File \"/usr/lib/python3.8/multiprocessing/process.py\", line 108, in run\n",
      "    self._target(*self._args, **self._kwargs)\n",
      "  File \"<ipython-input-37-1a096acd61cd>\", line 46, in Wait_LED\n",
      "    LED()\n",
      "  File \"<ipython-input-37-1a096acd61cd>\", line 36, in LED\n",
      "    time.sleep(PWM_off[LED_Status[3]]) #sleep with OFF\n",
      "KeyboardInterrupt\n"
     ]
    }
   ],
   "source": [
    "reset_gpioB()\n",
    "\n",
    "start = Value('i', 0)\n",
    "LED_Status = Array('i', [1, 0, 2, 2])\n",
    "\n",
    "p_GPIOB = multiprocessing.Process(target=test,args=(start,LED_Status))\n",
    "p_GPIOB.start()\n",
    "os.system(\"taskset -p -c {} {}\".format(1, p_GPIOB.pid))\n",
    "p_server = multiprocessing.Process(target=Wait_LED,args=(start,LED_Status))\n",
    "p_server.start()\n",
    "os.system(\"taskset -p -c {} {}\".format(0, p_server.pid))"
   ]
  },
  {
   "cell_type": "code",
   "execution_count": null,
   "metadata": {},
   "outputs": [],
   "source": []
  }
 ],
 "metadata": {
  "kernelspec": {
   "display_name": "Python 3",
   "language": "python",
   "name": "python3"
  },
  "language_info": {
   "codemirror_mode": {
    "name": "ipython",
    "version": 3
   },
   "file_extension": ".py",
   "mimetype": "text/x-python",
   "name": "python",
   "nbconvert_exporter": "python",
   "pygments_lexer": "ipython3",
   "version": "3.8.2"
  }
 },
 "nbformat": 4,
 "nbformat_minor": 2
}
