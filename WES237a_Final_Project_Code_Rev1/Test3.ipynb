{
 "cells": [
  {
   "cell_type": "code",
   "execution_count": 8,
   "id": "e76aa7a3",
   "metadata": {},
   "outputs": [],
   "source": [
    "from pynq.overlays.base import BaseOverlay\n",
    "import time\n",
    "from datetime import datetime\n",
    "base = BaseOverlay(\"base.bit\")\n",
    "import asyncio"
   ]
  },
  {
   "cell_type": "code",
   "execution_count": 9,
   "id": "0096ba55",
   "metadata": {},
   "outputs": [],
   "source": [
    "%%microblaze base.PMODB\n",
    "\n",
    "#include \"gpio.h\"\n",
    "#include \"pyprintf.h\"\n",
    "\n",
    "//Function to turn on/off a selected pin of PMODB\n",
    "void write_gpio(unsigned int pin, unsigned int val){\n",
    "    if (val > 1){\n",
    "        pyprintf(\"pin value must be 0 or 1\");\n",
    "    }\n",
    "    gpio pin_out = gpio_open(pin);\n",
    "    gpio_set_direction(pin_out, GPIO_OUT);\n",
    "    gpio_write(pin_out, val);\n",
    "}\n",
    "\n",
    "//Function to read the value of a selected pin of PMODB\n",
    "unsigned int read_gpio(unsigned int pin){\n",
    "    gpio pin_in = gpio_open(pin);\n",
    "    gpio_set_direction(pin_in, GPIO_IN);\n",
    "    return gpio_read(pin_in);\n",
    "}\n",
    "\n",
    "//Add a C++ function to reset all the GPIO pins on the chosen PMOD\n",
    "void reset_gpio(){\n",
    "    for (unsigned int j = 0; j <= 7; j = j + 1) { \n",
    "        write_gpio(j, 0);\n",
    "        //write_gpio(pin,val)\n",
    "        //we want the value reset to zero\n",
    "        //12 pins, starts at 0\n",
    "    }\n",
    "}\n",
    "\n",
    "//Add a C++ function to reset 0,1,4,5 LOW and 2,3,6,7 HIGH the GPIO pins on the chosen PMOD\n",
    "void lh_gpio(){\n",
    "    for (unsigned int j = 0; j <= 7; j = j + 1) { \n",
    "        if (j==0 || j==1 || j==4 || j==5) {\n",
    "            write_gpio(j, 0);\n",
    "        }\n",
    "        else {\n",
    "            write_gpio(j,1);\n",
    "        }\n",
    "    }\n",
    "}"
   ]
  },
  {
   "cell_type": "code",
   "execution_count": 10,
   "id": "ce5bdbb1",
   "metadata": {},
   "outputs": [
    {
     "name": "stdout",
     "output_type": "stream",
     "text": [
      "intial:  0 0\n",
      "intial:  1 0\n",
      "intial:  2 1\n",
      "intial:  3 1\n",
      "intial:  4 0\n",
      "intial:  5 0\n",
      "intial:  6 1\n",
      "intial:  7 1\n"
     ]
    }
   ],
   "source": [
    "lh_gpio()\n",
    "for i in range(8):\n",
    "    print('intial: ', i, read_gpio(i))\n",
    "    #lh_gpio()\n",
    "    #print('rewrite: ', i, read_gpio(i))"
   ]
  },
  {
   "cell_type": "code",
   "execution_count": null,
   "id": "7b1b9a48",
   "metadata": {},
   "outputs": [],
   "source": [
    "X = 0\n",
    "Y = 0\n",
    "a = 0\n",
    "b = 2\n",
    "#c = 1\n",
    "#d = 5\n",
    "\n",
    "#for i in range(8):\n",
    "    #print('intial: ', i, read_gpio(i))\n",
    "    #lh_gpio()\n",
    "    #print('rewrite: ', i, read_gpio(i))\n",
    "lh_gpio()\n",
    "    \n",
    "async def readinput(x0, y0):\n",
    "    global X, Y\n",
    "    while True:\n",
    "        print('readinput:', read_gpio(0), read_gpio(1), read_gpio(2), read_gpio(3), read_gpio(4), read_gpio(5), read_gpio(6), read_gpio(7))\n",
    "        #lh_gpio()\n",
    "        await asyncio.sleep(2)\n",
    "    \n",
    "async def readkeypad(_loop, x1,y1):\n",
    "    global X, Y\n",
    "    while True:\n",
    "        await asyncio.sleep(.9)\n",
    "        lh_gpio()\n",
    "        #print(read_gpio(x1))\n",
    "        X = read_gpio(x1)\n",
    "        #print(read_gpio(x1))\n",
    "        Y = read_gpio(y1)\n",
    "        if X == 1 & Y == 1:\n",
    "            print('button A input', read_gpio(0), read_gpio(1), read_gpio(2), read_gpio(3), read_gpio(4), read_gpio(5), read_gpio(6), read_gpio(7))\n",
    "            #lh_gpio()\n",
    "            print('Reset to:', read_gpio(0), read_gpio(1), read_gpio(2), read_gpio(3), read_gpio(4), read_gpio(5), read_gpio(6), read_gpio(7))\n",
    "        else:\n",
    "            #print('No input', X, Y)\n",
    "            print('No input', read_gpio(0), read_gpio(1), read_gpio(2), read_gpio(3), read_gpio(4), read_gpio(5), read_gpio(6), read_gpio(7))\n",
    "            #lh_gpio()\n",
    "    \n",
    "\n",
    "sound = []\n",
    "LEDs = [base.leds[0] , base.leds[1] , base.leds[2] , base.leds[3]]\n",
    "\n",
    "loop = asyncio.new_event_loop()\n",
    "loop.create_task(readinput(a, b))\n",
    "loop.create_task(readkeypad(loop, a, b))\n",
    "loop.run_forever()\n",
    "\n",
    "#while True:\n",
    "    #print(read_gpio(1))\n",
    "    #time.sleep(1)"
   ]
  },
  {
   "cell_type": "code",
   "execution_count": 24,
   "id": "1932aeca",
   "metadata": {},
   "outputs": [
    {
     "name": "stdout",
     "output_type": "stream",
     "text": [
      "initial:  0 0 1 1 0 0 1 1\n",
      "No input 0 0 1 1 0 0 1 1\n",
      "No input 0 0 1 1 0 0 1 1\n",
      "No input 0 0 1 1 0 0 1 1\n",
      "No input 0 0 1 1 0 0 1 1\n",
      "An input 1 0 1 1 0 0 1 1\n",
      "An input 1 0 1 1 0 0 1 1\n",
      "No input 0 0 1 1 0 0 1 1\n",
      "No input 0 0 1 0 1 0 1 1\n",
      "No input 0 0 1 0 1 0 1 1\n",
      "No input 0 0 1 0 1 0 1 1\n",
      "No input 0 0 1 1 0 0 1 1\n",
      "No input 0 1 1 1 0 0 1 1\n",
      "No input 0 1 1 1 0 0 1 1\n",
      "No input 0 1 1 1 0 0 1 1\n",
      "No input 0 0 1 1 0 0 1 1\n",
      "No input 0 0 1 1 0 0 1 1\n",
      "No input 0 0 1 0 0 1 1 1\n",
      "No input 0 0 1 0 0 1 1 1\n",
      "No input 0 0 1 0 0 1 1 1\n",
      "No input 0 0 1 1 0 0 1 1\n",
      "No input 0 0 1 1 0 0 1 1\n"
     ]
    },
    {
     "ename": "KeyboardInterrupt",
     "evalue": "",
     "output_type": "error",
     "traceback": [
      "\u001b[0;31m---------------------------------------------------------------------------\u001b[0m",
      "\u001b[0;31mKeyboardInterrupt\u001b[0m                         Traceback (most recent call last)",
      "\u001b[0;32m<ipython-input-24-63a8e0567fae>\u001b[0m in \u001b[0;36m<module>\u001b[0;34m\u001b[0m\n\u001b[1;32m     21\u001b[0m         \u001b[0mprint\u001b[0m\u001b[0;34m(\u001b[0m\u001b[0;34m'No input'\u001b[0m\u001b[0;34m,\u001b[0m \u001b[0mread_gpio\u001b[0m\u001b[0;34m(\u001b[0m\u001b[0;36m0\u001b[0m\u001b[0;34m)\u001b[0m\u001b[0;34m,\u001b[0m \u001b[0mread_gpio\u001b[0m\u001b[0;34m(\u001b[0m\u001b[0;36m1\u001b[0m\u001b[0;34m)\u001b[0m\u001b[0;34m,\u001b[0m \u001b[0mread_gpio\u001b[0m\u001b[0;34m(\u001b[0m\u001b[0;36m2\u001b[0m\u001b[0;34m)\u001b[0m\u001b[0;34m,\u001b[0m \u001b[0mread_gpio\u001b[0m\u001b[0;34m(\u001b[0m\u001b[0;36m3\u001b[0m\u001b[0;34m)\u001b[0m\u001b[0;34m,\u001b[0m \u001b[0mread_gpio\u001b[0m\u001b[0;34m(\u001b[0m\u001b[0;36m4\u001b[0m\u001b[0;34m)\u001b[0m\u001b[0;34m,\u001b[0m \u001b[0mread_gpio\u001b[0m\u001b[0;34m(\u001b[0m\u001b[0;36m5\u001b[0m\u001b[0;34m)\u001b[0m\u001b[0;34m,\u001b[0m \u001b[0mread_gpio\u001b[0m\u001b[0;34m(\u001b[0m\u001b[0;36m6\u001b[0m\u001b[0;34m)\u001b[0m\u001b[0;34m,\u001b[0m \u001b[0mread_gpio\u001b[0m\u001b[0;34m(\u001b[0m\u001b[0;36m7\u001b[0m\u001b[0;34m)\u001b[0m\u001b[0;34m)\u001b[0m\u001b[0;34m\u001b[0m\u001b[0;34m\u001b[0m\u001b[0m\n\u001b[1;32m     22\u001b[0m             \u001b[0;31m#lh_gpio()\u001b[0m\u001b[0;34m\u001b[0m\u001b[0;34m\u001b[0m\u001b[0;34m\u001b[0m\u001b[0m\n\u001b[0;32m---> 23\u001b[0;31m     \u001b[0mtime\u001b[0m\u001b[0;34m.\u001b[0m\u001b[0msleep\u001b[0m\u001b[0;34m(\u001b[0m\u001b[0;36m1\u001b[0m\u001b[0;34m)\u001b[0m\u001b[0;34m\u001b[0m\u001b[0;34m\u001b[0m\u001b[0m\n\u001b[0m",
      "\u001b[0;31mKeyboardInterrupt\u001b[0m: "
     ]
    }
   ],
   "source": [
    "X = 0\n",
    "Y = 0\n",
    "a = 0\n",
    "b = 2\n",
    "\n",
    "lh_gpio()\n",
    "print('initial: ', read_gpio(0), read_gpio(1), read_gpio(2), read_gpio(3), read_gpio(4), read_gpio(5), read_gpio(6), read_gpio(7))\n",
    "\n",
    "while True:\n",
    "    lh_gpio()\n",
    "    #print(read_gpio(x1))\n",
    "    X = read_gpio(a)\n",
    "        #print(read_gpio(x1))\n",
    "    Y = read_gpio(b)\n",
    "    if X == 1 & Y == 1:\n",
    "        print('An input', read_gpio(0), read_gpio(1), read_gpio(2), read_gpio(3), read_gpio(4), read_gpio(5), read_gpio(6), read_gpio(7))\n",
    "            #lh_gpio()\n",
    "        #print('Reset to:', read_gpio(0), read_gpio(1), read_gpio(2), read_gpio(3), read_gpio(4), read_gpio(5), read_gpio(6), read_gpio(7))\n",
    "    else:\n",
    "            #print('No input', X, Y)\n",
    "        print('No input', read_gpio(0), read_gpio(1), read_gpio(2), read_gpio(3), read_gpio(4), read_gpio(5), read_gpio(6), read_gpio(7))\n",
    "            #lh_gpio()\n",
    "    time.sleep(1)"
   ]
  },
  {
   "cell_type": "code",
   "execution_count": null,
   "id": "8d0aa3cf",
   "metadata": {},
   "outputs": [],
   "source": []
  }
 ],
 "metadata": {
  "kernelspec": {
   "display_name": "Python 3",
   "language": "python",
   "name": "python3"
  },
  "language_info": {
   "codemirror_mode": {
    "name": "ipython",
    "version": 3
   },
   "file_extension": ".py",
   "mimetype": "text/x-python",
   "name": "python",
   "nbconvert_exporter": "python",
   "pygments_lexer": "ipython3",
   "version": "3.8.2"
  }
 },
 "nbformat": 4,
 "nbformat_minor": 5
}
